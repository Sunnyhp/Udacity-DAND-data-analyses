{
 "cells": [
  {
   "cell_type": "markdown",
   "metadata": {},
   "source": [
    "# 泰坦尼克号数据集探索分析"
   ]
  },
  {
   "cell_type": "markdown",
   "metadata": {},
   "source": [
    "## 项目说明\n",
    "通过此项目熟悉数据分析基本流程以及Pandas，Numpy，Matplotlib的用法。\n",
    "## 探索的问题\n",
    "1. 社会经济地位更高的乘客生还率更高吗？\n",
    "2. 女性的生还率比男性高吗？\n",
    "3. 年龄小的乘客生还率更高吗？\n",
    "4. 乘客生还率与登船的港口有密切联系吗？\n",
    "5. 有家属在船上的乘客生还率更低吗？   \n",
    "6. 女性乘客的生还率与其所处的社会经济地位有密切联系吗？\n",
    "\n",
    "## 数据说明：\n",
    "* 数据来源及说明见[Kaggle](https://www.kaggle.com/c/titanic/data)。\n",
    "\n",
    "## 数据清洗\n",
    "### 1. 查看需要分析的数据是否有缺失值，异常值等。"
   ]
  },
  {
   "cell_type": "code",
   "execution_count": 55,
   "metadata": {
    "scrolled": true
   },
   "outputs": [
    {
     "name": "stdout",
     "output_type": "stream",
     "text": [
      "Populating the interactive namespace from numpy and matplotlib\n"
     ]
    },
    {
     "data": {
      "text/html": [
       "<div>\n",
       "<style>\n",
       "    .dataframe thead tr:only-child th {\n",
       "        text-align: right;\n",
       "    }\n",
       "\n",
       "    .dataframe thead th {\n",
       "        text-align: left;\n",
       "    }\n",
       "\n",
       "    .dataframe tbody tr th {\n",
       "        vertical-align: top;\n",
       "    }\n",
       "</style>\n",
       "<table border=\"1\" class=\"dataframe\">\n",
       "  <thead>\n",
       "    <tr style=\"text-align: right;\">\n",
       "      <th></th>\n",
       "      <th>PassengerId</th>\n",
       "      <th>Survived</th>\n",
       "      <th>Pclass</th>\n",
       "      <th>Name</th>\n",
       "      <th>Sex</th>\n",
       "      <th>Age</th>\n",
       "      <th>SibSp</th>\n",
       "      <th>Parch</th>\n",
       "      <th>Ticket</th>\n",
       "      <th>Fare</th>\n",
       "      <th>Cabin</th>\n",
       "      <th>Embarked</th>\n",
       "    </tr>\n",
       "  </thead>\n",
       "  <tbody>\n",
       "    <tr>\n",
       "      <th>0</th>\n",
       "      <td>1</td>\n",
       "      <td>0</td>\n",
       "      <td>3</td>\n",
       "      <td>Braund, Mr. Owen Harris</td>\n",
       "      <td>male</td>\n",
       "      <td>22.0</td>\n",
       "      <td>1</td>\n",
       "      <td>0</td>\n",
       "      <td>A/5 21171</td>\n",
       "      <td>7.2500</td>\n",
       "      <td>NaN</td>\n",
       "      <td>S</td>\n",
       "    </tr>\n",
       "    <tr>\n",
       "      <th>1</th>\n",
       "      <td>2</td>\n",
       "      <td>1</td>\n",
       "      <td>1</td>\n",
       "      <td>Cumings, Mrs. John Bradley (Florence Briggs Th...</td>\n",
       "      <td>female</td>\n",
       "      <td>38.0</td>\n",
       "      <td>1</td>\n",
       "      <td>0</td>\n",
       "      <td>PC 17599</td>\n",
       "      <td>71.2833</td>\n",
       "      <td>C85</td>\n",
       "      <td>C</td>\n",
       "    </tr>\n",
       "    <tr>\n",
       "      <th>2</th>\n",
       "      <td>3</td>\n",
       "      <td>1</td>\n",
       "      <td>3</td>\n",
       "      <td>Heikkinen, Miss. Laina</td>\n",
       "      <td>female</td>\n",
       "      <td>26.0</td>\n",
       "      <td>0</td>\n",
       "      <td>0</td>\n",
       "      <td>STON/O2. 3101282</td>\n",
       "      <td>7.9250</td>\n",
       "      <td>NaN</td>\n",
       "      <td>S</td>\n",
       "    </tr>\n",
       "    <tr>\n",
       "      <th>3</th>\n",
       "      <td>4</td>\n",
       "      <td>1</td>\n",
       "      <td>1</td>\n",
       "      <td>Futrelle, Mrs. Jacques Heath (Lily May Peel)</td>\n",
       "      <td>female</td>\n",
       "      <td>35.0</td>\n",
       "      <td>1</td>\n",
       "      <td>0</td>\n",
       "      <td>113803</td>\n",
       "      <td>53.1000</td>\n",
       "      <td>C123</td>\n",
       "      <td>S</td>\n",
       "    </tr>\n",
       "    <tr>\n",
       "      <th>4</th>\n",
       "      <td>5</td>\n",
       "      <td>0</td>\n",
       "      <td>3</td>\n",
       "      <td>Allen, Mr. William Henry</td>\n",
       "      <td>male</td>\n",
       "      <td>35.0</td>\n",
       "      <td>0</td>\n",
       "      <td>0</td>\n",
       "      <td>373450</td>\n",
       "      <td>8.0500</td>\n",
       "      <td>NaN</td>\n",
       "      <td>S</td>\n",
       "    </tr>\n",
       "  </tbody>\n",
       "</table>\n",
       "</div>"
      ],
      "text/plain": [
       "   PassengerId  Survived  Pclass  \\\n",
       "0            1         0       3   \n",
       "1            2         1       1   \n",
       "2            3         1       3   \n",
       "3            4         1       1   \n",
       "4            5         0       3   \n",
       "\n",
       "                                                Name     Sex   Age  SibSp  \\\n",
       "0                            Braund, Mr. Owen Harris    male  22.0      1   \n",
       "1  Cumings, Mrs. John Bradley (Florence Briggs Th...  female  38.0      1   \n",
       "2                             Heikkinen, Miss. Laina  female  26.0      0   \n",
       "3       Futrelle, Mrs. Jacques Heath (Lily May Peel)  female  35.0      1   \n",
       "4                           Allen, Mr. William Henry    male  35.0      0   \n",
       "\n",
       "   Parch            Ticket     Fare Cabin Embarked  \n",
       "0      0         A/5 21171   7.2500   NaN        S  \n",
       "1      0          PC 17599  71.2833   C85        C  \n",
       "2      0  STON/O2. 3101282   7.9250   NaN        S  \n",
       "3      0            113803  53.1000  C123        S  \n",
       "4      0            373450   8.0500   NaN        S  "
      ]
     },
     "execution_count": 55,
     "metadata": {},
     "output_type": "execute_result"
    }
   ],
   "source": [
    "# encoding: utf-8\n",
    "\n",
    "# 加载所需的包\n",
    "import pandas as pd\n",
    "import numpy as np\n",
    "import matplotlib.pyplot as plt\n",
    "import seaborn as sns\n",
    "%pylab inline\n",
    "\n",
    "# 使图形能够正常显示中文标签\n",
    "plt.rcParams['font.sans-serif']=['Microsoft YaHei']\n",
    "\n",
    "# 加载数据\n",
    "titanic_data = pd.read_csv('titanic-data.csv')\n",
    "\n",
    "# 预览部分数据集\n",
    "titanic_data.head()"
   ]
  },
  {
   "cell_type": "code",
   "execution_count": 56,
   "metadata": {
    "scrolled": true
   },
   "outputs": [
    {
     "data": {
      "text/plain": [
       "PassengerId      0\n",
       "Survived         0\n",
       "Pclass           0\n",
       "Name             0\n",
       "Sex              0\n",
       "Age            177\n",
       "SibSp            0\n",
       "Parch            0\n",
       "Ticket           0\n",
       "Fare             0\n",
       "Cabin          687\n",
       "Embarked         2\n",
       "dtype: int64"
      ]
     },
     "execution_count": 56,
     "metadata": {},
     "output_type": "execute_result"
    }
   ],
   "source": [
    "# 统计缺失值\n",
    "titanic_data.isnull().sum()"
   ]
  },
  {
   "cell_type": "markdown",
   "metadata": {},
   "source": [
    "### 该数据集里 Age 中有 177 个缺失值，Cabin 中有 687 个缺失值，Embarked 中有 2 个缺失值。\n",
    "#### 注:本次分析中不涉及到 Cabin ，故 Cabin 中的缺失值不需要处理\n",
    "\n",
    "### 2. 处理缺失值,调整数据类型\n",
    "#### 在处理 Age 中的缺失值之前，先看一看年龄的分布情况"
   ]
  },
  {
   "cell_type": "code",
   "execution_count": 57,
   "metadata": {
    "scrolled": true
   },
   "outputs": [
    {
     "data": {
      "text/plain": [
       "<matplotlib.text.Text at 0x11fdb78d0>"
      ]
     },
     "execution_count": 57,
     "metadata": {},
     "output_type": "execute_result"
    },
    {
     "data": {
      "image/png": "[encoded data removed]",
      "text/plain": [
       "<matplotlib.figure.Figure at 0x11f16d790>"
      ]
     },
     "metadata": {},
     "output_type": "display_data"
    }
   ],
   "source": [
    "# 绘制年龄分布直方图\n",
    "titanic_data['Age'].hist(edgecolor='black', grid = False)\n",
    "plt.xlabel(\"Age\")\n",
    "plt.ylabel(\"Number of passengers\")\n",
    "plt.title(\"Histogram of Passenger Age\")"
   ]
  },
  {
   "cell_type": "markdown",
   "metadata": {},
   "source": [
    "#### 由于 Age 中的缺失值有 177 个，乘客总数为 891 ，删除年龄中的缺失值不太合适,\n",
    "应该用乘客年龄的中位数或平均值填充缺失值。         \n",
    "由于年龄分布为正偏态分布，故用年龄的中位数填充缺失值比较合适。"
   ]
  },
  {
   "cell_type": "code",
   "execution_count": 58,
   "metadata": {
    "scrolled": true
   },
   "outputs": [
    {
     "data": {
      "text/plain": [
       "0"
      ]
     },
     "execution_count": 58,
     "metadata": {},
     "output_type": "execute_result"
    }
   ],
   "source": [
    "# 用年龄的中位数填充缺失值\n",
    "titanic_data['Age'].fillna(titanic_data['Age'].median(), inplace = True)\n",
    "\n",
    "# 检查填充效果\n",
    "titanic_data['Age'].isnull().sum()"
   ]
  },
  {
   "cell_type": "markdown",
   "metadata": {},
   "source": [
    "#### 由于年龄跨度比较大，为了便于分析，按年龄划分为 ‘儿童’，‘成年’，‘老年’"
   ]
  },
  {
   "cell_type": "code",
   "execution_count": 59,
   "metadata": {},
   "outputs": [
    {
     "data": {
      "text/html": [
       "<div>\n",
       "<style>\n",
       "    .dataframe thead tr:only-child th {\n",
       "        text-align: right;\n",
       "    }\n",
       "\n",
       "    .dataframe thead th {\n",
       "        text-align: left;\n",
       "    }\n",
       "\n",
       "    .dataframe tbody tr th {\n",
       "        vertical-align: top;\n",
       "    }\n",
       "</style>\n",
       "<table border=\"1\" class=\"dataframe\">\n",
       "  <thead>\n",
       "    <tr style=\"text-align: right;\">\n",
       "      <th></th>\n",
       "      <th>PassengerId</th>\n",
       "      <th>Survived</th>\n",
       "      <th>Pclass</th>\n",
       "      <th>Name</th>\n",
       "      <th>Sex</th>\n",
       "      <th>Age</th>\n",
       "      <th>SibSp</th>\n",
       "      <th>Parch</th>\n",
       "      <th>Ticket</th>\n",
       "      <th>Fare</th>\n",
       "      <th>Cabin</th>\n",
       "      <th>Embarked</th>\n",
       "    </tr>\n",
       "  </thead>\n",
       "  <tbody>\n",
       "    <tr>\n",
       "      <th>0</th>\n",
       "      <td>1</td>\n",
       "      <td>0</td>\n",
       "      <td>3</td>\n",
       "      <td>Braund, Mr. Owen Harris</td>\n",
       "      <td>male</td>\n",
       "      <td>成年</td>\n",
       "      <td>1</td>\n",
       "      <td>0</td>\n",
       "      <td>A/5 21171</td>\n",
       "      <td>7.2500</td>\n",
       "      <td>NaN</td>\n",
       "      <td>S</td>\n",
       "    </tr>\n",
       "    <tr>\n",
       "      <th>1</th>\n",
       "      <td>2</td>\n",
       "      <td>1</td>\n",
       "      <td>1</td>\n",
       "      <td>Cumings, Mrs. John Bradley (Florence Briggs Th...</td>\n",
       "      <td>female</td>\n",
       "      <td>成年</td>\n",
       "      <td>1</td>\n",
       "      <td>0</td>\n",
       "      <td>PC 17599</td>\n",
       "      <td>71.2833</td>\n",
       "      <td>C85</td>\n",
       "      <td>C</td>\n",
       "    </tr>\n",
       "    <tr>\n",
       "      <th>2</th>\n",
       "      <td>3</td>\n",
       "      <td>1</td>\n",
       "      <td>3</td>\n",
       "      <td>Heikkinen, Miss. Laina</td>\n",
       "      <td>female</td>\n",
       "      <td>成年</td>\n",
       "      <td>0</td>\n",
       "      <td>0</td>\n",
       "      <td>STON/O2. 3101282</td>\n",
       "      <td>7.9250</td>\n",
       "      <td>NaN</td>\n",
       "      <td>S</td>\n",
       "    </tr>\n",
       "    <tr>\n",
       "      <th>3</th>\n",
       "      <td>4</td>\n",
       "      <td>1</td>\n",
       "      <td>1</td>\n",
       "      <td>Futrelle, Mrs. Jacques Heath (Lily May Peel)</td>\n",
       "      <td>female</td>\n",
       "      <td>成年</td>\n",
       "      <td>1</td>\n",
       "      <td>0</td>\n",
       "      <td>113803</td>\n",
       "      <td>53.1000</td>\n",
       "      <td>C123</td>\n",
       "      <td>S</td>\n",
       "    </tr>\n",
       "    <tr>\n",
       "      <th>4</th>\n",
       "      <td>5</td>\n",
       "      <td>0</td>\n",
       "      <td>3</td>\n",
       "      <td>Allen, Mr. William Henry</td>\n",
       "      <td>male</td>\n",
       "      <td>成年</td>\n",
       "      <td>0</td>\n",
       "      <td>0</td>\n",
       "      <td>373450</td>\n",
       "      <td>8.0500</td>\n",
       "      <td>NaN</td>\n",
       "      <td>S</td>\n",
       "    </tr>\n",
       "  </tbody>\n",
       "</table>\n",
       "</div>"
      ],
      "text/plain": [
       "   PassengerId  Survived  Pclass  \\\n",
       "0            1         0       3   \n",
       "1            2         1       1   \n",
       "2            3         1       3   \n",
       "3            4         1       1   \n",
       "4            5         0       3   \n",
       "\n",
       "                                                Name     Sex Age  SibSp  \\\n",
       "0                            Braund, Mr. Owen Harris    male  成年      1   \n",
       "1  Cumings, Mrs. John Bradley (Florence Briggs Th...  female  成年      1   \n",
       "2                             Heikkinen, Miss. Laina  female  成年      0   \n",
       "3       Futrelle, Mrs. Jacques Heath (Lily May Peel)  female  成年      1   \n",
       "4                           Allen, Mr. William Henry    male  成年      0   \n",
       "\n",
       "   Parch            Ticket     Fare Cabin Embarked  \n",
       "0      0         A/5 21171   7.2500   NaN        S  \n",
       "1      0          PC 17599  71.2833   C85        C  \n",
       "2      0  STON/O2. 3101282   7.9250   NaN        S  \n",
       "3      0            113803  53.1000  C123        S  \n",
       "4      0            373450   8.0500   NaN        S  "
      ]
     },
     "execution_count": 59,
     "metadata": {},
     "output_type": "execute_result"
    }
   ],
   "source": [
    "# 自定义函数把年龄划分为三个年龄段\n",
    "def convert_age(age):\n",
    "    '''年龄小于14岁划分到儿童组\n",
    "       年龄在14到50之间划分到成年组\n",
    "       年龄大于50岁划分到老年组'''\n",
    "    if age <= 16:\n",
    "        return '儿童'\n",
    "    elif age <= 50:\n",
    "        return '成年'\n",
    "    elif age > 50:\n",
    "        return '老年'\n",
    "titanic_data['Age'] = titanic_data['Age'].apply(convert_age)\n",
    "titanic_data.head(5)"
   ]
  },
  {
   "cell_type": "markdown",
   "metadata": {},
   "source": [
    "#### 在处理 Embarked 中的缺失值之前，先看一看其分布情况"
   ]
  },
  {
   "cell_type": "code",
   "execution_count": 60,
   "metadata": {
    "scrolled": true
   },
   "outputs": [
    {
     "data": {
      "text/plain": [
       "<matplotlib.text.Text at 0x11fda1dd0>"
      ]
     },
     "execution_count": 60,
     "metadata": {},
     "output_type": "execute_result"
    },
    {
     "data": {
      "image/png": "[encoded data removed]",
      "text/plain": [
       "<matplotlib.figure.Figure at 0x11ff5be10>"
      ]
     },
     "metadata": {},
     "output_type": "display_data"
    }
   ],
   "source": [
    "# 绘制 Embarked 分布柱状图\n",
    "titanic_data['Embarked'].value_counts().plot(kind = 'bar')\n",
    "plt.xticks(rotation = 0)\n",
    "plt.xlabel(\"Embarked\")\n",
    "plt.ylabel(\"Number of passengers\")"
   ]
  },
  {
   "cell_type": "markdown",
   "metadata": {},
   "source": [
    "#### 用众数 S 填充 Embarked 中的缺失值比较合适"
   ]
  },
  {
   "cell_type": "code",
   "execution_count": 61,
   "metadata": {},
   "outputs": [
    {
     "data": {
      "text/plain": [
       "0"
      ]
     },
     "execution_count": 61,
     "metadata": {},
     "output_type": "execute_result"
    }
   ],
   "source": [
    "# 用众数 S  填充 Embarked 中的缺失值\n",
    "titanic_data['Embarked'].fillna('S', inplace = True)\n",
    "\n",
    "# 检查填充效果\n",
    "titanic_data['Embarked'].isnull().sum()"
   ]
  },
  {
   "cell_type": "markdown",
   "metadata": {},
   "source": [
    "#### 为了便于分析把 SibSp 和 Parch 合并到 Family 列"
   ]
  },
  {
   "cell_type": "code",
   "execution_count": 62,
   "metadata": {},
   "outputs": [
    {
     "data": {
      "text/html": [
       "<div>\n",
       "<style>\n",
       "    .dataframe thead tr:only-child th {\n",
       "        text-align: right;\n",
       "    }\n",
       "\n",
       "    .dataframe thead th {\n",
       "        text-align: left;\n",
       "    }\n",
       "\n",
       "    .dataframe tbody tr th {\n",
       "        vertical-align: top;\n",
       "    }\n",
       "</style>\n",
       "<table border=\"1\" class=\"dataframe\">\n",
       "  <thead>\n",
       "    <tr style=\"text-align: right;\">\n",
       "      <th></th>\n",
       "      <th>PassengerId</th>\n",
       "      <th>Survived</th>\n",
       "      <th>Pclass</th>\n",
       "      <th>Name</th>\n",
       "      <th>Sex</th>\n",
       "      <th>Age</th>\n",
       "      <th>SibSp</th>\n",
       "      <th>Parch</th>\n",
       "      <th>Ticket</th>\n",
       "      <th>Fare</th>\n",
       "      <th>Cabin</th>\n",
       "      <th>Embarked</th>\n",
       "      <th>Family</th>\n",
       "    </tr>\n",
       "  </thead>\n",
       "  <tbody>\n",
       "    <tr>\n",
       "      <th>0</th>\n",
       "      <td>1</td>\n",
       "      <td>0</td>\n",
       "      <td>3</td>\n",
       "      <td>Braund, Mr. Owen Harris</td>\n",
       "      <td>male</td>\n",
       "      <td>成年</td>\n",
       "      <td>1</td>\n",
       "      <td>0</td>\n",
       "      <td>A/5 21171</td>\n",
       "      <td>7.2500</td>\n",
       "      <td>NaN</td>\n",
       "      <td>S</td>\n",
       "      <td>有家属</td>\n",
       "    </tr>\n",
       "    <tr>\n",
       "      <th>1</th>\n",
       "      <td>2</td>\n",
       "      <td>1</td>\n",
       "      <td>1</td>\n",
       "      <td>Cumings, Mrs. John Bradley (Florence Briggs Th...</td>\n",
       "      <td>female</td>\n",
       "      <td>成年</td>\n",
       "      <td>1</td>\n",
       "      <td>0</td>\n",
       "      <td>PC 17599</td>\n",
       "      <td>71.2833</td>\n",
       "      <td>C85</td>\n",
       "      <td>C</td>\n",
       "      <td>有家属</td>\n",
       "    </tr>\n",
       "    <tr>\n",
       "      <th>2</th>\n",
       "      <td>3</td>\n",
       "      <td>1</td>\n",
       "      <td>3</td>\n",
       "      <td>Heikkinen, Miss. Laina</td>\n",
       "      <td>female</td>\n",
       "      <td>成年</td>\n",
       "      <td>0</td>\n",
       "      <td>0</td>\n",
       "      <td>STON/O2. 3101282</td>\n",
       "      <td>7.9250</td>\n",
       "      <td>NaN</td>\n",
       "      <td>S</td>\n",
       "      <td>无家属</td>\n",
       "    </tr>\n",
       "  </tbody>\n",
       "</table>\n",
       "</div>"
      ],
      "text/plain": [
       "   PassengerId  Survived  Pclass  \\\n",
       "0            1         0       3   \n",
       "1            2         1       1   \n",
       "2            3         1       3   \n",
       "\n",
       "                                                Name     Sex Age  SibSp  \\\n",
       "0                            Braund, Mr. Owen Harris    male  成年      1   \n",
       "1  Cumings, Mrs. John Bradley (Florence Briggs Th...  female  成年      1   \n",
       "2                             Heikkinen, Miss. Laina  female  成年      0   \n",
       "\n",
       "   Parch            Ticket     Fare Cabin Embarked Family  \n",
       "0      0         A/5 21171   7.2500   NaN        S    有家属  \n",
       "1      0          PC 17599  71.2833   C85        C    有家属  \n",
       "2      0  STON/O2. 3101282   7.9250   NaN        S    无家属  "
      ]
     },
     "execution_count": 62,
     "metadata": {},
     "output_type": "execute_result"
    }
   ],
   "source": [
    "# 新建 Family 列 \n",
    "titanic_data['Family'] = titanic_data['SibSp'] + titanic_data['Parch']\n",
    "\n",
    "def convert_Family(data):\n",
    "    '''SibSp 和 Parch 值都为 0 时，Family对应的值为无家属\n",
    "       否则Family对应的值为有家属'''\n",
    "    if data == 0:\n",
    "        return '无家属'\n",
    "    else:\n",
    "        return '有家属'\n",
    "titanic_data['Family'] = titanic_data['Family'].apply(convert_Family)\n",
    "titanic_data.head(3)"
   ]
  },
  {
   "cell_type": "markdown",
   "metadata": {},
   "source": [
    "## 数据探索     \n",
    "### 问题1:社会经济地位更高的乘客生还率更高吗？"
   ]
  },
  {
   "cell_type": "code",
   "execution_count": 63,
   "metadata": {
    "scrolled": false
   },
   "outputs": [
    {
     "data": {
      "text/plain": [
       "<matplotlib.text.Text at 0x11e39cd90>"
      ]
     },
     "execution_count": 63,
     "metadata": {},
     "output_type": "execute_result"
    },
    {
     "data": {
      "image/png": "[encoded data removed]",
      "text/plain": [
       "<matplotlib.figure.Figure at 0x11f0ba6d0>"
      ]
     },
     "metadata": {},
     "output_type": "display_data"
    }
   ],
   "source": [
    "# 按 Pclass 对数据进行分组\n",
    "group_by_Pclass = titanic_data.groupby('Pclass').Survived.value_counts().unstack()\n",
    "\n",
    "group_by_Pclass.plot(kind = 'bar', stacked = True)\n",
    "plt.xticks(rotation = 0)\n",
    "plt.ylabel(\"Number of passengers\")"
   ]
  },
  {
   "cell_type": "code",
   "execution_count": 64,
   "metadata": {
    "scrolled": true
   },
   "outputs": [
    {
     "name": "stdout",
     "output_type": "stream",
     "text": [
      "Survived    0    1\n",
      "Pclass            \n",
      "1          80  136\n",
      "2          97   87\n",
      "3         372  119\n",
      "\n",
      "Pclass 1 的生还率为: 62.96%\n",
      "Pclass 2 的生还率为: 47.28%\n",
      "Pclass 3 的生还率为: 24.24%\n"
     ]
    }
   ],
   "source": [
    "print group_by_Pclass\n",
    "\n",
    "# 自定义用来统计 Pclass 生还率的函数\n",
    "def survived_rate_by_Pclass(group_by_Pclass, Pclass_num):\n",
    "    return '%0.2f%%'%(100.0 * group_by_Pclass.loc[Pclass_num, 1] / group_by_Pclass.loc[Pclass_num].sum())\n",
    "\n",
    "print ''\n",
    "print \"Pclass 1 的生还率为:\",survived_rate_by_Pclass(group_by_Pclass, 1)\n",
    "print \"Pclass 2 的生还率为:\",survived_rate_by_Pclass(group_by_Pclass, 2)\n",
    "print \"Pclass 3 的生还率为:\",survived_rate_by_Pclass(group_by_Pclass, 3)\n"
   ]
  },
  {
   "cell_type": "markdown",
   "metadata": {},
   "source": [
    "#### 由上图可以看出，社会经济地位越高的乘客生还率越低\n",
    "### 问题2:女性的生还率比男性高吗？"
   ]
  },
  {
   "cell_type": "code",
   "execution_count": 65,
   "metadata": {
    "scrolled": true
   },
   "outputs": [
    {
     "name": "stdout",
     "output_type": "stream",
     "text": [
      "Sex     Survived\n",
      "female  0            81\n",
      "        1           233\n",
      "male    0           468\n",
      "        1           109\n",
      "dtype: int64\n",
      "\n",
      "男性的生还率为: 18.89%\n",
      "女性的生还率为: 74.20%\n"
     ]
    }
   ],
   "source": [
    "# 按性别分组\n",
    "group_by_Sex = titanic_data.groupby('Sex').Survived.value_counts().unstack()\n",
    "\n",
    "print group_by_Sex.stack()\n",
    "\n",
    "# 自定义用来统计男女生还率的函数\n",
    "def survived_rate_by_Sex(group_by_Sex, Sex):\n",
    "    return '%0.2f%%'%(100.0 * group_by_Sex.loc[Sex, 1] / group_by_Sex.loc[Sex].sum())\n",
    "\n",
    "print '' # 和之前的输出内容间隔一行\n",
    "print \"男性的生还率为:\",survived_rate_by_Sex(group_by_Sex, 'male')\n",
    "print \"女性的生还率为:\",survived_rate_by_Sex(group_by_Sex, 'female')"
   ]
  },
  {
   "cell_type": "code",
   "execution_count": 66,
   "metadata": {
    "scrolled": false
   },
   "outputs": [
    {
     "data": {
      "text/plain": [
       "<matplotlib.text.Text at 0x1202b9e90>"
      ]
     },
     "execution_count": 66,
     "metadata": {},
     "output_type": "execute_result"
    },
    {
     "data": {
      "image/png": "[encoded data removed]",
      "text/plain": [
       "<matplotlib.figure.Figure at 0x12016ba50>"
      ]
     },
     "metadata": {},
     "output_type": "display_data"
    }
   ],
   "source": [
    "plt.rc('figure', figsize=(6, 6)) # 设置图像大小\n",
    "fig = plt.figure()\n",
    "ax1 = fig.add_subplot(1, 2, 1)   # 创建两个 subplot\n",
    "ax2 = fig.add_subplot(1, 2, 2)\n",
    "\n",
    "labels = 'Died', 'Survived'      # 设置图中的标签为 Died 和 Survived\n",
    "explode = (0, 0.1)               # 表示Survived 的那一部分从图中分离\n",
    "colors = ['green', 'orange']     # 设置饼状图中个部分的颜色\n",
    "\n",
    "sizes_male = [81.11, 18.89]        # 男性死亡率和生存率\n",
    "ax1.pie(sizes_male, explode=explode, labels = labels, autopct='%1.2f%%',\n",
    "        colors = colors, shadow=True, startangle=120)\n",
    "ax1.axis('equal')\n",
    "ax1.set_title(u\"男性生还率饼状图\")\n",
    "\n",
    "sizes_fmale = [(25.80), (74.20)]       # 女性死亡率和生存率\n",
    "ax2.pie(sizes_fmale, explode=explode, labels=labels, autopct='%1.2f%%',\n",
    "        colors=colors, shadow=True, startangle=220)\n",
    "ax2.axis('equal')\n",
    "ax2.set_title(u\"女性生还率饼状图\")"
   ]
  },
  {
   "cell_type": "markdown",
   "metadata": {},
   "source": [
    "#### 由上述分析可知，女性生还率比男性高。\n",
    "### 问题3:年龄小的乘客生还率更高吗？"
   ]
  },
  {
   "cell_type": "code",
   "execution_count": 67,
   "metadata": {},
   "outputs": [
    {
     "data": {
      "text/plain": [
       "<matplotlib.text.Text at 0x12034cb10>"
      ]
     },
     "execution_count": 67,
     "metadata": {},
     "output_type": "execute_result"
    },
    {
     "data": {
      "image/png": "[encoded data removed]",
      "text/plain": [
       "<matplotlib.figure.Figure at 0x11f0bd890>"
      ]
     },
     "metadata": {},
     "output_type": "display_data"
    }
   ],
   "source": [
    "# 按年龄分组\n",
    "group_by_Age = titanic_data.groupby('Age').Survived.value_counts().unstack()\n",
    "\n",
    "group_by_Age.plot(kind = 'bar', stacked = True)\n",
    "plt.xticks(rotation = 0)\n",
    "plt.ylabel(\"Number of passengers\")"
   ]
  },
  {
   "cell_type": "code",
   "execution_count": 68,
   "metadata": {},
   "outputs": [
    {
     "name": "stdout",
     "output_type": "stream",
     "text": [
      "Survived    0    1\n",
      "Age               \n",
      "儿童         45   55\n",
      "成年        462  265\n",
      "老年         42   22\n",
      "\n",
      "儿童的生还率为: 55.00%\n",
      "成年的生还率为: 36.45%\n",
      "老年的生还率为: 34.38%\n"
     ]
    }
   ],
   "source": [
    "print group_by_Age\n",
    "\n",
    "# 自定义用来统计不同年龄段生还率的函数\n",
    "def survived_rate_by_Age(group_by_Age, Age):\n",
    "    return '%0.2f%%'%(100.0 * group_by_Age.loc[Age, 1] / group_by_Age.loc[Age].sum())\n",
    "\n",
    "print '' # 和之前的输出内容间隔一行\n",
    "print \"儿童的生还率为:\",survived_rate_by_Age(group_by_Age, '儿童')\n",
    "print \"成年的生还率为:\",survived_rate_by_Age(group_by_Age, '成年')\n",
    "print \"老年的生还率为:\",survived_rate_by_Age(group_by_Age, '老年')"
   ]
  },
  {
   "cell_type": "markdown",
   "metadata": {},
   "source": [
    "#### 由上述分析可知，儿童生还率最高，成年人其次，老年人生还率最低。\n",
    "### 问题4:乘客生还率与登船的港口有密切联系吗？"
   ]
  },
  {
   "cell_type": "code",
   "execution_count": 69,
   "metadata": {
    "scrolled": false
   },
   "outputs": [
    {
     "data": {
      "text/plain": [
       "<matplotlib.text.Text at 0x1204ad110>"
      ]
     },
     "execution_count": 69,
     "metadata": {},
     "output_type": "execute_result"
    },
    {
     "data": {
      "image/png": "[encoded data removed]",
      "text/plain": [
       "<matplotlib.figure.Figure at 0x12046a0d0>"
      ]
     },
     "metadata": {},
     "output_type": "display_data"
    }
   ],
   "source": [
    "# 按 Embarked 分组\n",
    "group_by_Embarked = titanic_data.groupby(['Embarked']).Survived.value_counts().unstack()\n",
    "\n",
    "group_by_Embarked.plot(kind = 'bar')\n",
    "plt.xticks(rotation = 0)\n",
    "plt.ylabel(\"Number of passengers\")"
   ]
  },
  {
   "cell_type": "code",
   "execution_count": 70,
   "metadata": {
    "scrolled": true
   },
   "outputs": [
    {
     "name": "stdout",
     "output_type": "stream",
     "text": [
      "Survived    0    1\n",
      "Embarked          \n",
      "C          75   93\n",
      "Q          47   30\n",
      "S         427  219\n",
      "\n",
      "C港口登船的生还率为: 55.36%\n",
      "Q港口登船的生还率为: 38.96%\n",
      "S港口登船的生还率为: 33.90%\n"
     ]
    }
   ],
   "source": [
    "print group_by_Embarked\n",
    "\n",
    "# 自定义用来统计不同年龄段生还率的函数\n",
    "def survived_rate_by_Embarked(group_by_Embarked, Embarked):\n",
    "    return '%0.2f%%'%(100.0 * group_by_Embarked.loc[Embarked, 1] / group_by_Embarked.loc[Embarked].sum())\n",
    "\n",
    "print '' # 和之前的输出内容间隔一行\n",
    "print \"C港口登船的生还率为:\",survived_rate_by_Embarked(group_by_Embarked, 'C')\n",
    "print \"Q港口登船的生还率为:\",survived_rate_by_Embarked(group_by_Embarked, 'Q')\n",
    "print \"S港口登船的生还率为:\",survived_rate_by_Embarked(group_by_Embarked, 'S')"
   ]
  },
  {
   "cell_type": "markdown",
   "metadata": {},
   "source": [
    "#### 由上述分析可知，C港口登船的生还率最高，Q其次，S最低。\n",
    "### 问题5:有家属在船上的乘客生还率更低吗？"
   ]
  },
  {
   "cell_type": "code",
   "execution_count": 71,
   "metadata": {},
   "outputs": [
    {
     "data": {
      "text/plain": [
       "<matplotlib.text.Text at 0x120624250>"
      ]
     },
     "execution_count": 71,
     "metadata": {},
     "output_type": "execute_result"
    },
    {
     "data": {
      "image/png": "[encoded data removed]",
      "text/plain": [
       "<matplotlib.figure.Figure at 0x1204810d0>"
      ]
     },
     "metadata": {},
     "output_type": "display_data"
    }
   ],
   "source": [
    "# 按 Family 分组\n",
    "group_by_Family = titanic_data.groupby('Family').Survived.value_counts().unstack()\n",
    "group_by_Family.plot(kind = 'bar', stacked = True)\n",
    "plt.xticks(rotation = 0)\n",
    "plt.ylabel(\"Number of passengers\")"
   ]
  },
  {
   "cell_type": "code",
   "execution_count": 72,
   "metadata": {
    "scrolled": true
   },
   "outputs": [
    {
     "name": "stdout",
     "output_type": "stream",
     "text": [
      "Survived    0    1\n",
      "Family            \n",
      "无家属       374  163\n",
      "有家属       175  179\n",
      "\n",
      "无家属的生还率为: 30.35%\n",
      "有家属的生还率为: 50.56%\n"
     ]
    }
   ],
   "source": [
    "print group_by_Family\n",
    "\n",
    "# 自定义用来统计不同年龄段生还率的函数\n",
    "def survived_rate_by_Family(group_by_Family, Family):\n",
    "    return '%0.2f%%'%(100.0 * group_by_Family.loc[Family, 1] / group_by_Family.loc[Family].sum())\n",
    "\n",
    "print '' # 和之前的输出内容间隔一行\n",
    "print \"无家属的生还率为:\",survived_rate_by_Family(group_by_Family, '无家属')\n",
    "print \"有家属的生还率为:\",survived_rate_by_Family(group_by_Family, '有家属')"
   ]
  },
  {
   "cell_type": "markdown",
   "metadata": {},
   "source": [
    "#### 由上述分析可知，有家属在船上的乘客比没有家属的生还率高。"
   ]
  },
  {
   "cell_type": "markdown",
   "metadata": {},
   "source": [
    "### 问题6:女性乘客的生还率与其所处的社会经济地位有密切联系吗？"
   ]
  },
  {
   "cell_type": "code",
   "execution_count": 73,
   "metadata": {},
   "outputs": [
    {
     "data": {
      "text/plain": [
       "<matplotlib.text.Text at 0x120850990>"
      ]
     },
     "execution_count": 73,
     "metadata": {},
     "output_type": "execute_result"
    },
    {
     "data": {
      "image/png": "[encoded data removed]",
      "text/plain": [
       "<matplotlib.figure.Figure at 0x1205efed0>"
      ]
     },
     "metadata": {},
     "output_type": "display_data"
    }
   ],
   "source": [
    "# 按 Sex 和 Pclass 分组\n",
    "group_by_Pclass_Sex = titanic_data.groupby(['Sex', 'Pclass']).Survived.value_counts().unstack()\n",
    "\n",
    "group_by_Pclass_Sex.loc['female'].plot(kind = 'bar', stacked = True)\n",
    "plt.ylabel(\"Number of passengers(male)\")\n",
    "plt.xticks(rotation = 0)\n",
    "plt.title(u\"女性乘客生还率和其所处社会经济地位关系\")"
   ]
  },
  {
   "cell_type": "code",
   "execution_count": 74,
   "metadata": {},
   "outputs": [
    {
     "name": "stdout",
     "output_type": "stream",
     "text": [
      "Survived   0   1\n",
      "Pclass          \n",
      "1          3  91\n",
      "2          6  70\n",
      "3         72  72\n",
      "\n",
      "Pclass为1的女性的生还率为: 96.81%\n",
      "Pclass为2的女性的生还率为: 92.11%\n",
      "Pclass为3的女性的生还率为: 50.00%\n"
     ]
    }
   ],
   "source": [
    "print group_by_Pclass_Sex.loc['female']\n",
    "\n",
    "# 自定义用来统计不同社会经济地位的女性乘客生还率的函数\n",
    "def female_survived_rate_by_Pclass(male, Pclass):\n",
    "    return '%0.2f%%'%(100.0 * male.loc[Pclass, 1] / male.loc[Pclass].sum())\n",
    "\n",
    "print '' # 和之前的输出内容间隔一行\n",
    "print \"Pclass为1的女性的生还率为:\",female_survived_rate_by_Pclass(group_by_Pclass_Sex.loc['female'], 1)\n",
    "print \"Pclass为2的女性的生还率为:\",female_survived_rate_by_Pclass(group_by_Pclass_Sex.loc['female'], 2)\n",
    "print \"Pclass为3的女性的生还率为:\",female_survived_rate_by_Pclass(group_by_Pclass_Sex.loc['female'], 3)"
   ]
  },
  {
   "cell_type": "markdown",
   "metadata": {},
   "source": [
    "#### 通过上面分析可以看出，对所有乘客而言，女性乘客的生还率为74.2%，      \n",
    "但是不同社会经济地位的女性乘客之间的生还率有着很大的区别，    \n",
    "Pclass为1的女性的生还率高达96.81%   \n",
    "Pclass为3的女性的生还率只有50.00%\n",
    "\n",
    "## 结论\n",
    "1. 社会经济地位越高的乘客生还率越低\n",
    "2. 女性的生还率比男性高\n",
    "3. 年龄小的乘客生还率更高\n",
    "4. C港口登船的乘客生还率最高\n",
    "5. 有家属在船上的乘客生还率更高   \n",
    "6. 女性乘客所处的社会经济地位越低生还率越高  \n",
    "\n",
    "#### 以上结论只是暂时性的，原因如下\n",
    "1. 泰坦尼克号船上实际人数为2224人，本次分析所用数据集中只有891人\n",
    "2. 本次分析中没有涉及到类似于相关性之类的统计学知识\n",
    "3. 对于缺失值只是简单的用众数填充\n",
    "4. 对于乘客的年龄划分为儿童，中年，老年三个级别，也会对分析结果造成影响\n",
    "5. 把 SibSp 列和 Parch 列合并到 Family列，使得 SibSp 和 Parch 对生还率的影响部分分析的不够细\n",
    "\n",
    "## 参考资料\n",
    "1. http://www.jianshu.com/p/ac00d44214d8\n",
    "2. https://matplotlib.org/2.0.2/examples/pie_and_polar_charts/pie_demo_features.html\n",
    "3. http://pandas.pydata.org/pandas-docs/version/0.13.1/visualization.html\n",
    "4. http://blog.csdn.net/lanchunhui/article/details/52850631\n"
   ]
  }
 ],
 "metadata": {
  "kernelspec": {
   "display_name": "Python 2",
   "language": "python",
   "name": "python2"
  },
  "language_info": {
   "codemirror_mode": {
    "name": "ipython",
    "version": 2
   },
   "file_extension": ".py",
   "mimetype": "text/x-python",
   "name": "python",
   "nbconvert_exporter": "python",
   "pygments_lexer": "ipython2",
   "version": "2.7.13"
  }
 },
 "nbformat": 4,
 "nbformat_minor": 2
}
