{
 "cells": [
  {
   "cell_type": "code",
   "execution_count": 48,
   "metadata": {},
   "outputs": [
    {
     "name": "stdout",
     "output_type": "stream",
     "text": [
      "{'-': set(['89108-7049']), 'NV': set(['NV 89149'])}\n",
      "89108-7049 => 89108\n",
      "NV 89149 => 89149\n"
     ]
    }
   ],
   "source": [
    "import xml.etree.cElementTree as ET\n",
    "from collections import defaultdict\n",
    "import re\n",
    "import pprint\n",
    "\n",
    "OSMFILE = \"sample.osm\"\n",
    "postcode_NV_re = re.compile(r'[A-Z]+')\n",
    "postcode_re = re.compile(r'-')\n",
    "\n",
    "\n",
    "def audit_postcode_type(pt_types, pt_name):\n",
    "    m = re.search(postcode_NV_re, pt_name)\n",
    "    n = re.search(postcode_re, pt_name)\n",
    "    \n",
    "    if m:\n",
    "        pt_type = m.group()\n",
    "        pt_types[pt_type].add(pt_name)\n",
    "    elif n:\n",
    "        pt_type = n.group()\n",
    "        pt_types[pt_type].add(pt_name)\n",
    "\n",
    "def is_postcode(elem):\n",
    "    return (elem.attrib['k'] == \"addr:postcode\")\n",
    "\n",
    "\n",
    "def audit(osmfile):\n",
    "    osm_file = open(osmfile, \"r\")\n",
    "    pt_types = defaultdict(set)\n",
    "    for event, elem in ET.iterparse(osm_file, events=(\"start\",)):\n",
    "        for tag in elem.iter(\"tag\"):\n",
    "            if is_postcode(tag):\n",
    "                audit_postcode_type(pt_types, tag.attrib['v'])\n",
    "    osm_file.close()\n",
    "    return pt_types\n",
    "\n",
    "\n",
    "def update_name(name):\n",
    "    m = re.search(postcode_NV_re, name)\n",
    "    n = re.search(postcode_re, name)\n",
    "    if m:\n",
    "        name = (re.sub(postcode_NV_re, '', name)).strip()\n",
    "    elif n:\n",
    "        name = name.split('-')[0]\n",
    "    return name\n",
    "\n",
    "\n",
    "def test():\n",
    "    postcode_types = audit(OSMFILE)\n",
    "#    assert len(postcode_types) == 2\n",
    "    pprint.pprint(dict(postcode_types))\n",
    "\n",
    "    for postcode_type, postcode in postcode_types.iteritems():\n",
    "        for name in postcode:\n",
    "            better_name = update_name(name)\n",
    "            print name, \"=>\", better_name\n",
    "            if name == \"89108-7049\":\n",
    "                assert better_name == \"89108\"\n",
    "            if name == \"NV 89149\":\n",
    "                assert better_name == \"89149\"\n",
    "\n",
    "\n",
    "if __name__ == '__main__':\n",
    "    test()"
   ]
  }
 ],
 "metadata": {
  "kernelspec": {
   "display_name": "Python 2",
   "language": "python",
   "name": "python2"
  },
  "language_info": {
   "codemirror_mode": {
    "name": "ipython",
    "version": 2
   },
   "file_extension": ".py",
   "mimetype": "text/x-python",
   "name": "python",
   "nbconvert_exporter": "python",
   "pygments_lexer": "ipython2",
   "version": "2.7.13"
  }
 },
 "nbformat": 4,
 "nbformat_minor": 2
}
