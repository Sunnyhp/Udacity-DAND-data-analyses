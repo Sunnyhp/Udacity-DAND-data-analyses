{
 "cells": [
  {
   "cell_type": "code",
   "execution_count": 1,
   "metadata": {
    "scrolled": false
   },
   "outputs": [
    {
     "name": "stdout",
     "output_type": "stream",
     "text": [
      "las-vegas_nevada.osm.......... 219.04 MB\n",
      "sample.osm.................... 9.12 MB\n",
      "data_wrangling_schema.db...... 496.64 MB\n",
      "nodes.csv..................... 84.73 MB\n",
      "nodes_tags.csv................ 2.28 MB\n",
      "ways.csv...................... 6.54 MB\n",
      "ways_nodes.csv................ 29.08 MB\n",
      "ways_tags.csv................. 14.19 MB\n",
      "relation_tags.csv............. 0.10 MB\n",
      "relations.csv................. 0.03 MB\n"
     ]
    }
   ],
   "source": [
    "import os\n",
    "def get_size(file):\n",
    "    size = os.path.getsize(file)/ (1024.0 * 1024)\n",
    "    convert2MB = format(size, '0.2f') + \" MB\"\n",
    "    print file.ljust(30,'.'),convert2MB\n",
    "get_size('las-vegas_nevada.osm')\n",
    "get_size('sample.osm')\n",
    "get_size('data_wrangling_schema.db')\n",
    "get_size('nodes.csv')\n",
    "get_size('nodes_tags.csv')\n",
    "get_size('ways.csv')\n",
    "get_size('ways_nodes.csv')\n",
    "get_size('ways_tags.csv')\n",
    "get_size('relation_tags.csv')\n",
    "get_size('relations.csv')"
   ]
  }
 ],
 "metadata": {
  "kernelspec": {
   "display_name": "Python 2",
   "language": "python",
   "name": "python2"
  },
  "language_info": {
   "codemirror_mode": {
    "name": "ipython",
    "version": 2
   },
   "file_extension": ".py",
   "mimetype": "text/x-python",
   "name": "python",
   "nbconvert_exporter": "python",
   "pygments_lexer": "ipython2",
   "version": "2.7.13"
  }
 },
 "nbformat": 4,
 "nbformat_minor": 2
}
