{
 "cells": [
  {
   "cell_type": "code",
   "execution_count": 4,
   "metadata": {},
   "outputs": [
    {
     "name": "stdout",
     "output_type": "stream",
     "text": [
      "Row data:\n",
      "569\n"
     ]
    }
   ],
   "source": [
    "import sqlite3\n",
    "\n",
    "# Fetch records from either chinook.db\n",
    "db = sqlite3.connect(\"data_wrangling_schema.db\")\n",
    "c = db.cursor()\n",
    "QUERY = \"SELECT uid FROM relations;\"\n",
    "c.execute(QUERY)\n",
    "rows = c.fetchall()\n",
    "\n",
    "'''Uncomment to see your query in python'''\n",
    "print \"Row data:\"\n",
    "print len(rows)\n",
    "#for i in rows:\n",
    "#    a = int(list(i)[0])\n",
    "#    t.append(a)\n",
    "#print len(t)\n",
    "    \n",
    "\n",
    "db.close()"
   ]
  },
  {
   "cell_type": "code",
   "execution_count": 3,
   "metadata": {},
   "outputs": [
    {
     "name": "stdout",
     "output_type": "stream",
     "text": [
      "1117\n"
     ]
    }
   ],
   "source": [
    "#!/usr/bin/env python\n",
    "# -*- coding: utf-8 -*-\n",
    "import xml.etree.cElementTree as ET\n",
    "import pprint\n",
    "import re\n",
    "\"\"\"\n",
    "Your task is to explore the data a bit more.\n",
    "The first task is a fun one - find out how many unique users\n",
    "have contributed to the map in this particular area!\n",
    "\n",
    "The function process_map should return a set of unique user IDs (\"uid\")\n",
    "\"\"\"\n",
    "\n",
    "def get_user(element):\n",
    "    return\n",
    "\n",
    "\n",
    "def process_map(filename):\n",
    "    users = set()\n",
    "    for _, element in ET.iterparse(filename):\n",
    "        if element.get('uid'):\n",
    "            users.add(int(element.get('uid')))\n",
    "\n",
    "    return users\n",
    "\n",
    "\n",
    "def test():\n",
    "\n",
    "    users = process_map('las-vegas_nevada.osm')\n",
    "    global b\n",
    "    b = list(users)\n",
    "    print len(b)\n",
    "   \n",
    "\n",
    "\n",
    "\n",
    "if __name__ == \"__main__\":\n",
    "    test()"
   ]
  }
 ],
 "metadata": {
  "kernelspec": {
   "display_name": "Python 2",
   "language": "python",
   "name": "python2"
  },
  "language_info": {
   "codemirror_mode": {
    "name": "ipython",
    "version": 2
   },
   "file_extension": ".py",
   "mimetype": "text/x-python",
   "name": "python",
   "nbconvert_exporter": "python",
   "pygments_lexer": "ipython2",
   "version": "2.7.13"
  }
 },
 "nbformat": 4,
 "nbformat_minor": 2
}
