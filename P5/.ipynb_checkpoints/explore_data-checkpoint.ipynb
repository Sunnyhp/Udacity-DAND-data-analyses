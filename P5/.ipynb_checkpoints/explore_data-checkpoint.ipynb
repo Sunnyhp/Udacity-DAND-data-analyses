{
 "cells": [
  {
   "cell_type": "code",
   "execution_count": 5,
   "metadata": {},
   "outputs": [
    {
     "name": "stdout",
     "output_type": "stream",
     "text": [
      "89103\n",
      "89119\n",
      "89144\n",
      "89101\n",
      "89142\n",
      "89109\n",
      "89005\n",
      "89014\n",
      "89123\n",
      "89178\n",
      "89108-7049\n",
      "89102\n",
      "89118\n",
      "89109\n",
      "89014\n",
      "89030\n",
      "89030\n",
      "89109\n",
      "89109\n",
      "89146\n",
      "89102\n",
      "89121\n",
      "89019\n",
      "89146\n",
      "89102\n",
      "89101\n",
      "89102\n",
      "89118\n",
      "89117\n",
      "89109\n",
      "89109\n",
      "89005\n",
      "89122\n",
      "89101\n",
      "89119\n",
      "89118\n",
      "89122\n",
      "89101\n",
      "89103\n",
      "89122\n",
      "89122\n",
      "89119\n",
      "89128\n",
      "89101\n",
      "89011\n",
      "89119\n",
      "89012\n",
      "89120\n",
      "89129\n",
      "89103\n",
      "89109\n",
      "NV 89149\n",
      "89134\n"
     ]
    }
   ],
   "source": [
    "from lxml import etree\n",
    "osm_file = open('sample.osm', 'r')\n",
    "\n",
    "def is_postcode(elem):\n",
    "    '''判断 elem 的标签是否为 tag 以及 k 属性 是否包含 addr:postcode\n",
    "       若满足上述条件，函数返回 True'''\n",
    "    return (elem.tag == 'tag') and (elem.attrib['k'] == 'addr:postcode')\n",
    "\n",
    "def audit():\n",
    "    for event, elem in etree.iterparse(osm_file):\n",
    "        if is_postcode(elem):\n",
    "            print elem.attrib['v']\n",
    "\n",
    "if __name__ == '__main__':\n",
    "    audit()"
   ]
  }
 ],
 "metadata": {
  "kernelspec": {
   "display_name": "Python 2",
   "language": "python",
   "name": "python2"
  },
  "language_info": {
   "codemirror_mode": {
    "name": "ipython",
    "version": 2
   },
   "file_extension": ".py",
   "mimetype": "text/x-python",
   "name": "python",
   "nbconvert_exporter": "python",
   "pygments_lexer": "ipython2",
   "version": "2.7.13"
  }
 },
 "nbformat": 4,
 "nbformat_minor": 2
}
