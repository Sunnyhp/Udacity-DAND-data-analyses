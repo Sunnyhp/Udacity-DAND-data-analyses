{
 "cells": [
  {
   "cell_type": "markdown",
   "metadata": {},
   "source": [
    "# 整理 OpenStreetMap 数据\n",
    "\n",
    "## 采用的地图\n",
    "* https://www.openstreetmap.org/relation/165473\n",
    "* https://mapzen.com/data/metro-extracts/metro/las-vegas_nevada/     \n",
    "\n",
    "拉斯维加斯是世界著名赌城，对该城市的地图数据比较好奇，所以选择此城市。\n",
    "\n",
    "## 地图中存在的问题\n",
    "运行 explore_data.py 文件时发现以下问题：\n",
    "* 邮政编码的格式不统一"
   ]
  },
  {
   "cell_type": "code",
   "execution_count": null,
   "metadata": {
    "collapsed": true
   },
   "outputs": [],
   "source": [
    "<tag k=\"addr:postcode\" v=\"89119\"/>\n",
    "<tag k=\"addr:postcode\" v=\"NV 89149\"/>\n",
    "<tag k=\"addr:postcode\" v=\"89108-7049\"/>"
   ]
  },
  {
   "cell_type": "markdown",
   "metadata": {},
   "source": [
    "## 数据清洗\n",
    "用 audit_project.py 文件对数据进行清洗整理，把类似于 'NV 89031' 和 '89109-1907' 格式的邮政编码全部转换为 '89119' 这样的格式。    \n",
    "修正邮政编码的部分代码如下："
   ]
  },
  {
   "cell_type": "code",
   "execution_count": null,
   "metadata": {
    "collapsed": true
   },
   "outputs": [],
   "source": [
    "def update_name(name):\n",
    "    m = re.search(postcode_NV_re, name)\n",
    "    n = re.search(postcode_re, name)\n",
    "    if m:\n",
    "        name = (re.sub(postcode_NV_re, '', name)).strip()\n",
    "    elif n:\n",
    "        name = name.split('-')[0]\n",
    "    return name"
   ]
  },
  {
   "cell_type": "markdown",
   "metadata": {},
   "source": [
    "修正后的格式如下:   \n",
    "89108-7049 => 89108   \n",
    "NV 89149   => 89149\n",
    "* 修正数据格式过程中遇到的问题:   \n",
    "第一次输出修正后的数据时，只输出了 '89108-7049 => 89108',为了验证是否是 update_name 函数引起的错误，   \n",
    "在执行 update_name 函数前把所有的邮政编码都输出了，结果还是缺少 ‘NV 89149’，   \n",
    "最后通过在 sample.osm 文件中查找 ‘NV 89149’，发现其在顶级标签 relation 的子标签 tag 中，   \n",
    "检查发现 audit_project.py 文件限定了查找标签为 'node' 和 'way'，删掉之后便得到了正确答案。\n",
    "\n",
    "## 把修正后的数据写入到 CSV 文件中\n",
    "* 此过程中遇到的问题：    \n",
    "完成此步骤后发现 CSV 文件中的错误邮政编码数据格式并没有修正过来，检查后发现，在把数据写入到 CSV 文件前没有更新数据，   \n",
    "添加部分代码后达到了预期结果。\n",
    "* 添加的主要代码如下:"
   ]
  },
  {
   "cell_type": "code",
   "execution_count": null,
   "metadata": {
    "collapsed": true
   },
   "outputs": [],
   "source": [
    "if child.attrib['k'] == 'addr:postcode':\n",
    "    tags_attrib['value'] = update_name(child.attrib['v'])\n",
    "else:\n",
    "    tags_attrib['value'] = child.attrib['v']"
   ]
  },
  {
   "cell_type": "markdown",
   "metadata": {},
   "source": [
    "## 把 CSV 文件导入到数据库中\n",
    "查询数据库中的邮编格式是否正确"
   ]
  },
  {
   "cell_type": "code",
   "execution_count": null,
   "metadata": {
    "collapsed": true
   },
   "outputs": [],
   "source": [
    "SELECT key, value FROM nodes_tags \n",
    "WHERE key == 'postcode' AND value == '89108'\n",
    "UNION \n",
    "SELECT key, value FROM relation_tags \n",
    "WHERE key == 'postcode' AND value == '89149'"
   ]
  },
  {
   "cell_type": "code",
   "execution_count": null,
   "metadata": {
    "collapsed": true
   },
   "outputs": [],
   "source": [
    "postcode  89108\n",
    "postcode  89149"
   ]
  },
  {
   "cell_type": "markdown",
   "metadata": {},
   "source": [
    "## 数据概述\n",
    "### 文件大小"
   ]
  },
  {
   "cell_type": "code",
   "execution_count": null,
   "metadata": {
    "collapsed": true
   },
   "outputs": [],
   "source": [
    "las-vegas_nevada.osm.......... 219.04 MB\n",
    "data_wrangling_schema.db...... 496.64 MB\n",
    "nodes.csv..................... 84.73 MB\n",
    "nodes_tags.csv................ 2.28 MB\n",
    "ways.csv...................... 6.54 MB\n",
    "ways_nodes.csv................ 29.08 MB\n",
    "ways_tags.csv................. 14.19 MB\n",
    "relation_tags.csv............. 0.10 MB\n",
    "relations.csv................. 0.03 MB"
   ]
  },
  {
   "cell_type": "markdown",
   "metadata": {},
   "source": [
    "### 唯一用户的数量"
   ]
  },
  {
   "cell_type": "code",
   "execution_count": null,
   "metadata": {
    "collapsed": true
   },
   "outputs": [],
   "source": [
    "SELECT COUNT(DISTINCT(e.uid)) FROM \n",
    "(SELECT uid FROM nodes UNION \n",
    "SELECT uid FROM ways UNION \n",
    "SELECT uid FROM relations) e;"
   ]
  },
  {
   "cell_type": "code",
   "execution_count": null,
   "metadata": {
    "collapsed": true
   },
   "outputs": [],
   "source": [
    "1117"
   ]
  },
  {
   "cell_type": "markdown",
   "metadata": {},
   "source": [
    "### nodes 数量"
   ]
  },
  {
   "cell_type": "code",
   "execution_count": null,
   "metadata": {
    "collapsed": true
   },
   "outputs": [],
   "source": [
    "SELECT COUNT(*) FROM nodes;"
   ]
  },
  {
   "cell_type": "code",
   "execution_count": null,
   "metadata": {
    "collapsed": true
   },
   "outputs": [],
   "source": [
    "1063059"
   ]
  },
  {
   "cell_type": "markdown",
   "metadata": {},
   "source": [
    "### ways 数量"
   ]
  },
  {
   "cell_type": "code",
   "execution_count": null,
   "metadata": {
    "collapsed": true
   },
   "outputs": [],
   "source": [
    "SELECT COUNT(*) FROM ways;"
   ]
  },
  {
   "cell_type": "code",
   "execution_count": null,
   "metadata": {
    "collapsed": true
   },
   "outputs": [],
   "source": [
    "115082"
   ]
  },
  {
   "cell_type": "markdown",
   "metadata": {},
   "source": [
    "### 警察局的数量"
   ]
  },
  {
   "cell_type": "code",
   "execution_count": null,
   "metadata": {
    "collapsed": true
   },
   "outputs": [],
   "source": [
    "SELECT COUNT(*) FROM nodes_tags \n",
    "WHERE value == 'police';"
   ]
  },
  {
   "cell_type": "code",
   "execution_count": null,
   "metadata": {
    "collapsed": true
   },
   "outputs": [],
   "source": [
    "16"
   ]
  },
  {
   "cell_type": "markdown",
   "metadata": {},
   "source": [
    "### 中国餐馆的数量"
   ]
  },
  {
   "cell_type": "code",
   "execution_count": null,
   "metadata": {
    "collapsed": true
   },
   "outputs": [],
   "source": [
    "SELECT COUNT(*) FROM nodes_tags \n",
    "WHERE key == 'cuisine' and value == 'chinese';"
   ]
  },
  {
   "cell_type": "code",
   "execution_count": null,
   "metadata": {
    "collapsed": true
   },
   "outputs": [],
   "source": [
    "21"
   ]
  },
  {
   "cell_type": "markdown",
   "metadata": {},
   "source": [
    "### 店面最多的10中咖啡店"
   ]
  },
  {
   "cell_type": "code",
   "execution_count": null,
   "metadata": {
    "collapsed": true
   },
   "outputs": [],
   "source": [
    "SELECT value , COUNT(*)\n",
    "FROM nodes_tags \n",
    "JOIN (SELECT DISTINCT id FROM nodes_tags WHERE value=\"cafe\") nodes_ids\n",
    "ON nodes_tags.id=nodes_ids.id\n",
    "WHERE key=\"name\" \n",
    "GROUP BY value \n",
    "ORDER BY COUNT(*) DESC  \n",
    "LIMIT 10;"
   ]
  },
  {
   "cell_type": "markdown",
   "metadata": {},
   "source": [
    "Starbucks,37\n",
    "\"Dunkin' Donuts\",3\n",
    "\"Coffee Bean & Tea Leaf\",2\n",
    "\"Starbucks Coffee\",2\n",
    "\"Baga Hookah\",1\n",
    "\"Brooklyn Bagels\",1\n",
    "\"Cafe Bellagio\",1\n",
    "\"Cafe Belle Madeleine\",1\n",
    "\"Cafe Pan\",1\n",
    "\"Café Berlin\",1"
   ]
  },
  {
   "cell_type": "markdown",
   "metadata": {},
   "source": [
    "星巴克的分店最多，同时发现一个问题，星巴克的名称出现了 'Starbucks' 和 'Starbucks Coffee'两种写法。"
   ]
  },
  {
   "cell_type": "markdown",
   "metadata": {},
   "source": [
    "## 改进数据建议\n",
    "在分析过程中发现，更多的数据其本身并没有错误，更多的是数据的格式不统一，比如本次分析中发现的邮编格式，星巴克的店名，   \n",
    "深入分析后发现，电话号码的格式也不统一。假如在用户提交数据时，系统应提示用户所提交的内容格式是否和系统建议的格式一致，   \n",
    "若不一致，建议用户修改后再提交。这样可以很好的改善数据格式的问题，提高用户使用体验。"
   ]
  },
  {
   "cell_type": "markdown",
   "metadata": {},
   "source": [
    "## 结论\n",
    "通过本次项目，让我熟悉了数据清洗的基本流程，了解了 SQL 的基本使用，同时在清洗邮政编码格式时，   \n",
    "更加熟悉了 Python 的基础知识。但是由于本次采用的是国外的地图，由于文化的差异，对地图中的一些信息了解的不是很清楚，   \n",
    "对项目的进行有一定的影响。"
   ]
  }
 ],
 "metadata": {
  "kernelspec": {
   "display_name": "Python 2",
   "language": "python",
   "name": "python2"
  },
  "language_info": {
   "codemirror_mode": {
    "name": "ipython",
    "version": 2
   },
   "file_extension": ".py",
   "mimetype": "text/x-python",
   "name": "python",
   "nbconvert_exporter": "python",
   "pygments_lexer": "ipython2",
   "version": "2.7.13"
  }
 },
 "nbformat": 4,
 "nbformat_minor": 2
}
